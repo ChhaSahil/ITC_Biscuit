{
 "cells": [
  {
   "cell_type": "code",
   "execution_count": 17,
   "id": "2f885b9e",
   "metadata": {},
   "outputs": [],
   "source": [
    "import numpy as np"
   ]
  },
  {
   "cell_type": "code",
   "execution_count": 18,
   "id": "474154f1",
   "metadata": {},
   "outputs": [],
   "source": [
    "import pandas as pd"
   ]
  },
  {
   "cell_type": "code",
   "execution_count": 34,
   "id": "254d375d",
   "metadata": {},
   "outputs": [],
   "source": [
    "df=pd.read_csv(\"C:\\\\Users\\\\rabhi\\\\OneDrive\\\\Documents\\\\ITC.csv\")"
   ]
  },
  {
   "cell_type": "code",
   "execution_count": 35,
   "id": "d72f1bbe",
   "metadata": {},
   "outputs": [
    {
     "data": {
      "text/html": [
       "<div>\n",
       "<style scoped>\n",
       "    .dataframe tbody tr th:only-of-type {\n",
       "        vertical-align: middle;\n",
       "    }\n",
       "\n",
       "    .dataframe tbody tr th {\n",
       "        vertical-align: top;\n",
       "    }\n",
       "\n",
       "    .dataframe thead th {\n",
       "        text-align: right;\n",
       "    }\n",
       "</style>\n",
       "<table border=\"1\" class=\"dataframe\">\n",
       "  <thead>\n",
       "    <tr style=\"text-align: right;\">\n",
       "      <th></th>\n",
       "      <th>Gluten</th>\n",
       "      <th>SV</th>\n",
       "      <th>Moisture</th>\n",
       "      <th>ABC</th>\n",
       "      <th>Water</th>\n",
       "    </tr>\n",
       "  </thead>\n",
       "  <tbody>\n",
       "    <tr>\n",
       "      <th>0</th>\n",
       "      <td>10.58</td>\n",
       "      <td>24.50</td>\n",
       "      <td>10.5</td>\n",
       "      <td>6.200000</td>\n",
       "      <td>13.000000</td>\n",
       "    </tr>\n",
       "    <tr>\n",
       "      <th>1</th>\n",
       "      <td>10.98</td>\n",
       "      <td>25.00</td>\n",
       "      <td>11.2</td>\n",
       "      <td>7.000000</td>\n",
       "      <td>15.000000</td>\n",
       "    </tr>\n",
       "    <tr>\n",
       "      <th>2</th>\n",
       "      <td>11.59</td>\n",
       "      <td>26.00</td>\n",
       "      <td>14.0</td>\n",
       "      <td>6.500000</td>\n",
       "      <td>14.300000</td>\n",
       "    </tr>\n",
       "    <tr>\n",
       "      <th>3</th>\n",
       "      <td>11.99</td>\n",
       "      <td>24.23</td>\n",
       "      <td>13.0</td>\n",
       "      <td>7.100000</td>\n",
       "      <td>15.200000</td>\n",
       "    </tr>\n",
       "    <tr>\n",
       "      <th>4</th>\n",
       "      <td>12.00</td>\n",
       "      <td>25.55</td>\n",
       "      <td>12.2</td>\n",
       "      <td>5.800000</td>\n",
       "      <td>13.400000</td>\n",
       "    </tr>\n",
       "    <tr>\n",
       "      <th>5</th>\n",
       "      <td>12.30</td>\n",
       "      <td>25.65</td>\n",
       "      <td>11.5</td>\n",
       "      <td>6.300000</td>\n",
       "      <td>12.980000</td>\n",
       "    </tr>\n",
       "    <tr>\n",
       "      <th>6</th>\n",
       "      <td>11.67</td>\n",
       "      <td>24.44</td>\n",
       "      <td>13.1</td>\n",
       "      <td>5.450000</td>\n",
       "      <td>15.700000</td>\n",
       "    </tr>\n",
       "    <tr>\n",
       "      <th>7</th>\n",
       "      <td>12.10</td>\n",
       "      <td>25.30</td>\n",
       "      <td>12.4</td>\n",
       "      <td>6.300000</td>\n",
       "      <td>15.320000</td>\n",
       "    </tr>\n",
       "    <tr>\n",
       "      <th>8</th>\n",
       "      <td>10.95</td>\n",
       "      <td>24.70</td>\n",
       "      <td>14.0</td>\n",
       "      <td>6.500000</td>\n",
       "      <td>13.500000</td>\n",
       "    </tr>\n",
       "    <tr>\n",
       "      <th>9</th>\n",
       "      <td>10.87</td>\n",
       "      <td>25.50</td>\n",
       "      <td>13.5</td>\n",
       "      <td>7.000000</td>\n",
       "      <td>14.600000</td>\n",
       "    </tr>\n",
       "    <tr>\n",
       "      <th>10</th>\n",
       "      <td>11.50</td>\n",
       "      <td>24.00</td>\n",
       "      <td>12.3</td>\n",
       "      <td>5.880235</td>\n",
       "      <td>14.558130</td>\n",
       "    </tr>\n",
       "    <tr>\n",
       "      <th>11</th>\n",
       "      <td>12.00</td>\n",
       "      <td>24.00</td>\n",
       "      <td>14.6</td>\n",
       "      <td>7.000000</td>\n",
       "      <td>16.000000</td>\n",
       "    </tr>\n",
       "    <tr>\n",
       "      <th>12</th>\n",
       "      <td>12.00</td>\n",
       "      <td>25.00</td>\n",
       "      <td>10.0</td>\n",
       "      <td>5.973042</td>\n",
       "      <td>13.678768</td>\n",
       "    </tr>\n",
       "    <tr>\n",
       "      <th>13</th>\n",
       "      <td>12.50</td>\n",
       "      <td>24.30</td>\n",
       "      <td>10.9</td>\n",
       "      <td>6.000000</td>\n",
       "      <td>15.000000</td>\n",
       "    </tr>\n",
       "  </tbody>\n",
       "</table>\n",
       "</div>"
      ],
      "text/plain": [
       "    Gluten     SV  Moisture       ABC      Water\n",
       "0    10.58  24.50      10.5  6.200000  13.000000\n",
       "1    10.98  25.00      11.2  7.000000  15.000000\n",
       "2    11.59  26.00      14.0  6.500000  14.300000\n",
       "3    11.99  24.23      13.0  7.100000  15.200000\n",
       "4    12.00  25.55      12.2  5.800000  13.400000\n",
       "5    12.30  25.65      11.5  6.300000  12.980000\n",
       "6    11.67  24.44      13.1  5.450000  15.700000\n",
       "7    12.10  25.30      12.4  6.300000  15.320000\n",
       "8    10.95  24.70      14.0  6.500000  13.500000\n",
       "9    10.87  25.50      13.5  7.000000  14.600000\n",
       "10   11.50  24.00      12.3  5.880235  14.558130\n",
       "11   12.00  24.00      14.6  7.000000  16.000000\n",
       "12   12.00  25.00      10.0  5.973042  13.678768\n",
       "13   12.50  24.30      10.9  6.000000  15.000000"
      ]
     },
     "execution_count": 35,
     "metadata": {},
     "output_type": "execute_result"
    }
   ],
   "source": [
    "df"
   ]
  },
  {
   "cell_type": "code",
   "execution_count": 21,
   "id": "182fabb9",
   "metadata": {},
   "outputs": [],
   "source": [
    "from sklearn.preprocessing import PolynomialFeatures\n",
    "from sklearn.linear_model import LinearRegression"
   ]
  },
  {
   "cell_type": "code",
   "execution_count": 22,
   "id": "851c762d",
   "metadata": {},
   "outputs": [],
   "source": [
    "lr=LinearRegression()"
   ]
  },
  {
   "cell_type": "code",
   "execution_count": 23,
   "id": "7f4a47fc",
   "metadata": {},
   "outputs": [],
   "source": [
    "x=df.drop(['ABC','Water'],axis=1)"
   ]
  },
  {
   "cell_type": "code",
   "execution_count": 24,
   "id": "813bb27f",
   "metadata": {},
   "outputs": [],
   "source": [
    "y=df.drop(['Gluten','SV','Moisture'],axis=1)"
   ]
  },
  {
   "cell_type": "code",
   "execution_count": 25,
   "id": "15782976",
   "metadata": {},
   "outputs": [],
   "source": [
    "poly = PolynomialFeatures(degree=1)\n",
    "x_poly = poly.fit_transform(x)"
   ]
  },
  {
   "cell_type": "code",
   "execution_count": 26,
   "id": "ec39c494",
   "metadata": {},
   "outputs": [
    {
     "data": {
      "text/html": [
       "<style>#sk-container-id-2 {color: black;background-color: white;}#sk-container-id-2 pre{padding: 0;}#sk-container-id-2 div.sk-toggleable {background-color: white;}#sk-container-id-2 label.sk-toggleable__label {cursor: pointer;display: block;width: 100%;margin-bottom: 0;padding: 0.3em;box-sizing: border-box;text-align: center;}#sk-container-id-2 label.sk-toggleable__label-arrow:before {content: \"▸\";float: left;margin-right: 0.25em;color: #696969;}#sk-container-id-2 label.sk-toggleable__label-arrow:hover:before {color: black;}#sk-container-id-2 div.sk-estimator:hover label.sk-toggleable__label-arrow:before {color: black;}#sk-container-id-2 div.sk-toggleable__content {max-height: 0;max-width: 0;overflow: hidden;text-align: left;background-color: #f0f8ff;}#sk-container-id-2 div.sk-toggleable__content pre {margin: 0.2em;color: black;border-radius: 0.25em;background-color: #f0f8ff;}#sk-container-id-2 input.sk-toggleable__control:checked~div.sk-toggleable__content {max-height: 200px;max-width: 100%;overflow: auto;}#sk-container-id-2 input.sk-toggleable__control:checked~label.sk-toggleable__label-arrow:before {content: \"▾\";}#sk-container-id-2 div.sk-estimator input.sk-toggleable__control:checked~label.sk-toggleable__label {background-color: #d4ebff;}#sk-container-id-2 div.sk-label input.sk-toggleable__control:checked~label.sk-toggleable__label {background-color: #d4ebff;}#sk-container-id-2 input.sk-hidden--visually {border: 0;clip: rect(1px 1px 1px 1px);clip: rect(1px, 1px, 1px, 1px);height: 1px;margin: -1px;overflow: hidden;padding: 0;position: absolute;width: 1px;}#sk-container-id-2 div.sk-estimator {font-family: monospace;background-color: #f0f8ff;border: 1px dotted black;border-radius: 0.25em;box-sizing: border-box;margin-bottom: 0.5em;}#sk-container-id-2 div.sk-estimator:hover {background-color: #d4ebff;}#sk-container-id-2 div.sk-parallel-item::after {content: \"\";width: 100%;border-bottom: 1px solid gray;flex-grow: 1;}#sk-container-id-2 div.sk-label:hover label.sk-toggleable__label {background-color: #d4ebff;}#sk-container-id-2 div.sk-serial::before {content: \"\";position: absolute;border-left: 1px solid gray;box-sizing: border-box;top: 0;bottom: 0;left: 50%;z-index: 0;}#sk-container-id-2 div.sk-serial {display: flex;flex-direction: column;align-items: center;background-color: white;padding-right: 0.2em;padding-left: 0.2em;position: relative;}#sk-container-id-2 div.sk-item {position: relative;z-index: 1;}#sk-container-id-2 div.sk-parallel {display: flex;align-items: stretch;justify-content: center;background-color: white;position: relative;}#sk-container-id-2 div.sk-item::before, #sk-container-id-2 div.sk-parallel-item::before {content: \"\";position: absolute;border-left: 1px solid gray;box-sizing: border-box;top: 0;bottom: 0;left: 50%;z-index: -1;}#sk-container-id-2 div.sk-parallel-item {display: flex;flex-direction: column;z-index: 1;position: relative;background-color: white;}#sk-container-id-2 div.sk-parallel-item:first-child::after {align-self: flex-end;width: 50%;}#sk-container-id-2 div.sk-parallel-item:last-child::after {align-self: flex-start;width: 50%;}#sk-container-id-2 div.sk-parallel-item:only-child::after {width: 0;}#sk-container-id-2 div.sk-dashed-wrapped {border: 1px dashed gray;margin: 0 0.4em 0.5em 0.4em;box-sizing: border-box;padding-bottom: 0.4em;background-color: white;}#sk-container-id-2 div.sk-label label {font-family: monospace;font-weight: bold;display: inline-block;line-height: 1.2em;}#sk-container-id-2 div.sk-label-container {text-align: center;}#sk-container-id-2 div.sk-container {/* jupyter's `normalize.less` sets `[hidden] { display: none; }` but bootstrap.min.css set `[hidden] { display: none !important; }` so we also need the `!important` here to be able to override the default hidden behavior on the sphinx rendered scikit-learn.org. See: https://github.com/scikit-learn/scikit-learn/issues/21755 */display: inline-block !important;position: relative;}#sk-container-id-2 div.sk-text-repr-fallback {display: none;}</style><div id=\"sk-container-id-2\" class=\"sk-top-container\"><div class=\"sk-text-repr-fallback\"><pre>LinearRegression()</pre><b>In a Jupyter environment, please rerun this cell to show the HTML representation or trust the notebook. <br />On GitHub, the HTML representation is unable to render, please try loading this page with nbviewer.org.</b></div><div class=\"sk-container\" hidden><div class=\"sk-item\"><div class=\"sk-estimator sk-toggleable\"><input class=\"sk-toggleable__control sk-hidden--visually\" id=\"sk-estimator-id-2\" type=\"checkbox\" checked><label for=\"sk-estimator-id-2\" class=\"sk-toggleable__label sk-toggleable__label-arrow\">LinearRegression</label><div class=\"sk-toggleable__content\"><pre>LinearRegression()</pre></div></div></div></div></div>"
      ],
      "text/plain": [
       "LinearRegression()"
      ]
     },
     "execution_count": 26,
     "metadata": {},
     "output_type": "execute_result"
    }
   ],
   "source": [
    "lr.fit(x_poly,y)"
   ]
  },
  {
   "cell_type": "code",
   "execution_count": 28,
   "id": "748daa82",
   "metadata": {},
   "outputs": [
    {
     "name": "stdout",
     "output_type": "stream",
     "text": [
      "Enter Gluten12.5\n",
      "Enter SV24.3\n",
      "Enter Moisture10.9\n"
     ]
    }
   ],
   "source": [
    "x_test1=float(input(\"Enter Gluten\"))\n",
    "x_test2=float(input(\"Enter SV\"))\n",
    "x_test3=float(input(\"Enter Moisture\"))\n",
    "x_test=[]\n",
    "x_final=[]\n",
    "x_test.append(x_test1)\n",
    "x_test.append(x_test2)\n",
    "x_test.append(x_test3)\n",
    "x_final.append(x_test)"
   ]
  },
  {
   "cell_type": "code",
   "execution_count": 29,
   "id": "eda5eb85",
   "metadata": {},
   "outputs": [],
   "source": [
    "x_test_poly=poly.fit_transform(x_final)"
   ]
  },
  {
   "cell_type": "code",
   "execution_count": 30,
   "id": "35f7ad6a",
   "metadata": {},
   "outputs": [],
   "source": [
    "y_pred_poly=lr.predict(x_test_poly)"
   ]
  },
  {
   "cell_type": "code",
   "execution_count": 31,
   "id": "5afa189b",
   "metadata": {},
   "outputs": [
    {
     "data": {
      "text/plain": [
       "array([[ 5.96753222, 14.60997847]])"
      ]
     },
     "execution_count": 31,
     "metadata": {},
     "output_type": "execute_result"
    }
   ],
   "source": [
    "y_pred_poly"
   ]
  },
  {
   "cell_type": "code",
   "execution_count": 32,
   "id": "875c3792",
   "metadata": {},
   "outputs": [
    {
     "name": "stdout",
     "output_type": "stream",
     "text": [
      "Feedback: NO\n",
      "Enter correct amt of ABC 6\n",
      "Enter correct amt of water15\n"
     ]
    }
   ],
   "source": [
    "f=str(input(\"Feedback: \"))\n",
    "if(f=='YES'):\n",
    "    add=np.concatenate((x_final,y_pred_poly),axis=1)\n",
    "    array_df = pd.DataFrame(add, columns=df.columns)\n",
    "    df = df.append(array_df, ignore_index=True)\n",
    "elif(f=='NO'):\n",
    "    y_abc=float(input(\"Enter correct amt of ABC \"))\n",
    "    y_water=float(input(\"Enter correct amt of water\"))\n",
    "    y_correct=[]\n",
    "    y_correct.append(y_abc)\n",
    "    y_correct.append(y_water)\n",
    "    y_final=[]\n",
    "    y_final.append(y_correct)\n",
    "    add=np.concatenate((x_final,y_final),axis=1)\n",
    "    array_df = pd.DataFrame(add, columns=df.columns)\n",
    "    df = df.append(array_df, ignore_index=True)"
   ]
  },
  {
   "cell_type": "code",
   "execution_count": 33,
   "id": "2fc0341a",
   "metadata": {},
   "outputs": [],
   "source": [
    "df.to_csv(r'C:/Users/rabhi/OneDrive/Documents/ITC.csv', index = False, header = True)"
   ]
  },
  {
   "cell_type": "code",
   "execution_count": null,
   "id": "8f44ffbc",
   "metadata": {},
   "outputs": [],
   "source": []
  }
 ],
 "metadata": {
  "kernelspec": {
   "display_name": "Python 3 (ipykernel)",
   "language": "python",
   "name": "python3"
  },
  "language_info": {
   "codemirror_mode": {
    "name": "ipython",
    "version": 3
   },
   "file_extension": ".py",
   "mimetype": "text/x-python",
   "name": "python",
   "nbconvert_exporter": "python",
   "pygments_lexer": "ipython3",
   "version": "3.9.7"
  }
 },
 "nbformat": 4,
 "nbformat_minor": 5
}
